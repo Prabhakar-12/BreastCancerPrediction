{
 "cells": [
  {
   "metadata": {},
   "cell_type": "markdown",
   "source": "Using NNModules",
   "id": "ab66c9b58f0f10b7"
  },
  {
   "metadata": {
    "ExecuteTime": {
     "end_time": "2025-10-25T17:48:15.956454Z",
     "start_time": "2025-10-25T17:48:10.790383Z"
    }
   },
   "cell_type": "code",
   "source": [
    "#Creating the Model\n",
    "import torch\n",
    "import torch.nn as nn"
   ],
   "id": "621c8b92f1ba2798",
   "outputs": [],
   "execution_count": 1
  },
  {
   "metadata": {
    "ExecuteTime": {
     "end_time": "2025-10-25T17:48:16.011591Z",
     "start_time": "2025-10-25T17:48:15.999451Z"
    }
   },
   "cell_type": "code",
   "source": [
    "#Creating the Model\n",
    "class SimpleNN(nn.Module):\n",
    "    def __init__(self,num_features):\n",
    "        super().__init__()\n",
    "        self.Linear=nn.Linear(num_features,1)\n",
    "        self.sigmoid=nn.Sigmoid()\n",
    "    def forward(self,features):\n",
    "        out=self.Linear(features)\n",
    "        out=self.sigmoid(out)\n",
    "        return out"
   ],
   "id": "fa465c4fc7a59265",
   "outputs": [],
   "execution_count": 2
  },
  {
   "metadata": {
    "ExecuteTime": {
     "end_time": "2025-10-25T17:48:16.135311Z",
     "start_time": "2025-10-25T17:48:16.095446Z"
    }
   },
   "cell_type": "code",
   "source": [
    "#Create Dataset\n",
    "Features=torch.rand(10,5)\n",
    "#Create Model\n",
    "Model=SimpleNN(Features.shape[1])\n",
    "#Call Model\n",
    "# Model.forward(Features)\n",
    "Model(Features)"
   ],
   "id": "a4bfaaa8c6b84ec4",
   "outputs": [
    {
     "data": {
      "text/plain": [
       "tensor([[0.7140],\n",
       "        [0.6032],\n",
       "        [0.6560],\n",
       "        [0.6484],\n",
       "        [0.6227],\n",
       "        [0.6672],\n",
       "        [0.6755],\n",
       "        [0.5519],\n",
       "        [0.6496],\n",
       "        [0.6177]], grad_fn=<SigmoidBackward0>)"
      ]
     },
     "execution_count": 3,
     "metadata": {},
     "output_type": "execute_result"
    }
   ],
   "execution_count": 3
  },
  {
   "metadata": {
    "ExecuteTime": {
     "end_time": "2025-10-25T17:48:16.346815Z",
     "start_time": "2025-10-25T17:48:16.329095Z"
    }
   },
   "cell_type": "code",
   "source": "Model.Linear.bias",
   "id": "91cf1aeaf6e5aa4e",
   "outputs": [
    {
     "data": {
      "text/plain": [
       "Parameter containing:\n",
       "tensor([0.2969], requires_grad=True)"
      ]
     },
     "execution_count": 4,
     "metadata": {},
     "output_type": "execute_result"
    }
   ],
   "execution_count": 4
  },
  {
   "metadata": {
    "ExecuteTime": {
     "end_time": "2025-10-25T17:48:16.548970Z",
     "start_time": "2025-10-25T17:48:16.542907Z"
    }
   },
   "cell_type": "code",
   "source": "",
   "id": "2ad14d48bdd460b8",
   "outputs": [],
   "execution_count": null
  },
  {
   "metadata": {
    "ExecuteTime": {
     "end_time": "2025-10-25T17:49:05.279811Z",
     "start_time": "2025-10-25T17:48:16.746301Z"
    }
   },
   "cell_type": "code",
   "source": [
    "# Python3 program to draw rectangle\n",
    "# shape on solid image\n",
    "import numpy as np\n",
    "import cv2\n",
    "\n",
    "# Creating a black image with 3\n",
    "# channels RGB and unsigned int datatype\n",
    "img = np.zeros((400, 400, 3), dtype = \"uint8\")\n",
    "\n",
    "# Creating rectangle\n",
    "cv2.rectangle(img, (30, 30), (300, 200), (0, 255, 0), 5)\n",
    "\n",
    "cv2.imshow('dark', img)\n",
    "\n",
    "# Allows us to see image\n",
    "# until closed forcefully\n",
    "cv2.waitKey(0)\n",
    "cv2.destroyAllWindows()"
   ],
   "id": "d24a8eb1ea7f88b7",
   "outputs": [],
   "execution_count": 5
  },
  {
   "metadata": {
    "ExecuteTime": {
     "end_time": "2025-10-25T18:43:27.458251Z",
     "start_time": "2025-10-25T18:43:25.582915Z"
    }
   },
   "cell_type": "code",
   "source": [
    "import cv2\n",
    "print(cv2.__version__)"
   ],
   "id": "cb505cab1864fa0e",
   "outputs": [
    {
     "name": "stdout",
     "output_type": "stream",
     "text": [
      "4.12.0\n"
     ]
    }
   ],
   "execution_count": 1
  }
 ],
 "metadata": {
  "kernelspec": {
   "display_name": "Python 3",
   "language": "python",
   "name": "python3"
  },
  "language_info": {
   "codemirror_mode": {
    "name": "ipython",
    "version": 2
   },
   "file_extension": ".py",
   "mimetype": "text/x-python",
   "name": "python",
   "nbconvert_exporter": "python",
   "pygments_lexer": "ipython2",
   "version": "2.7.6"
  }
 },
 "nbformat": 4,
 "nbformat_minor": 5
}
