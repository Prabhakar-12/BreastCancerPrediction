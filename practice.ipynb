{
 "cells": [
  {
   "metadata": {
    "ExecuteTime": {
     "end_time": "2025-10-29T02:10:20.196207Z",
     "start_time": "2025-10-29T02:10:20.146195Z"
    }
   },
   "cell_type": "code",
   "source": [
    "import torch\n",
    "import pandas as pd\n",
    "import numpy as np\n",
    "from sklearn.model_selection import train_test_split\n",
    "from sklearn.preprocessing import StandardScaler\n",
    "from sklearn.preprocessing import LabelEncoder\n",
    "Data=pd.read_csv('data.csv')\n",
    "#Replacing the Values in the DataFrame\n",
    "print(Data.shape)\n",
    "Data.drop(columns=['id','Unnamed: 32'],axis=1,inplace=True)"
   ],
   "id": "bec690189ac500cc",
   "outputs": [
    {
     "name": "stdout",
     "output_type": "stream",
     "text": [
      "(569, 33)\n"
     ]
    }
   ],
   "execution_count": 13
  },
  {
   "metadata": {
    "ExecuteTime": {
     "end_time": "2025-10-29T02:11:13.076882Z",
     "start_time": "2025-10-29T02:11:13.061157Z"
    }
   },
   "cell_type": "code",
   "source": "X_Train,X_Test,y_Train,y_Test=train_test_split(Data.iloc[:,1:],Data.iloc[:,0],test_size=0.2,random_state=42)\n",
   "id": "3cd8c5648ec2f944",
   "outputs": [],
   "execution_count": 17
  },
  {
   "metadata": {},
   "cell_type": "markdown",
   "source": "StandardScaler",
   "id": "4e0c24f4c1aa5071"
  },
  {
   "metadata": {
    "ExecuteTime": {
     "end_time": "2025-10-29T02:08:32.613782Z",
     "start_time": "2025-10-29T02:08:32.606381Z"
    }
   },
   "cell_type": "code",
   "source": "",
   "id": "65c38474aef35018",
   "outputs": [],
   "execution_count": null
  }
 ],
 "metadata": {
  "kernelspec": {
   "display_name": "Python 3",
   "language": "python",
   "name": "python3"
  },
  "language_info": {
   "codemirror_mode": {
    "name": "ipython",
    "version": 2
   },
   "file_extension": ".py",
   "mimetype": "text/x-python",
   "name": "python",
   "nbconvert_exporter": "python",
   "pygments_lexer": "ipython2",
   "version": "2.7.6"
  }
 },
 "nbformat": 4,
 "nbformat_minor": 5
}
