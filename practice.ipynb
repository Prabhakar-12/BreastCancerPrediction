{
 "cells": [
  {
   "metadata": {
    "ExecuteTime": {
     "end_time": "2025-10-29T02:44:05.965292Z",
     "start_time": "2025-10-29T02:44:05.930906Z"
    }
   },
   "cell_type": "code",
   "source": [
    "import torch\n",
    "import pandas as pd\n",
    "import numpy as np\n",
    "from sklearn.model_selection import train_test_split\n",
    "from sklearn.preprocessing import StandardScaler\n",
    "from sklearn.preprocessing import LabelEncoder\n",
    "Data=pd.read_csv('data.csv')\n",
    "#Replacing the Values in the DataFrame\n",
    "print(Data.shape)\n",
    "Data.drop(columns=['id','Unnamed: 32'],axis=1,inplace=True)"
   ],
   "id": "bec690189ac500cc",
   "outputs": [
    {
     "name": "stdout",
     "output_type": "stream",
     "text": [
      "(569, 33)\n"
     ]
    }
   ],
   "execution_count": 7
  },
  {
   "metadata": {
    "ExecuteTime": {
     "end_time": "2025-10-29T02:44:06.122974Z",
     "start_time": "2025-10-29T02:44:06.100074Z"
    }
   },
   "cell_type": "code",
   "source": "X_Train,X_Test,y_Train,y_Test=train_test_split(Data.iloc[:,1:],Data.iloc[:,0],test_size=0.2,random_state=42)\n",
   "id": "3cd8c5648ec2f944",
   "outputs": [],
   "execution_count": 8
  },
  {
   "metadata": {},
   "cell_type": "markdown",
   "source": "StandardScaler",
   "id": "4e0c24f4c1aa5071"
  },
  {
   "metadata": {
    "ExecuteTime": {
     "end_time": "2025-10-29T02:47:08.675327Z",
     "start_time": "2025-10-29T02:47:08.656637Z"
    }
   },
   "cell_type": "code",
   "source": [
    "#We have Created Instance of the Standard Scaler\n",
    "''''Scaler=StandardScaler()\n",
    "''''X_Train=Scaler.fit_transform(X_Train)'''\n",
    "print(\"Hello World\")\n",
    "Scaler=StandardScaler()\n",
    "X_Train=Scaler.fit_transform(X_Train)\n",
    "X_Test=Scaler.transform(X_Test)"
   ],
   "id": "65c38474aef35018",
   "outputs": [
    {
     "name": "stdout",
     "output_type": "stream",
     "text": [
      "Hello World\n"
     ]
    }
   ],
   "execution_count": 18
  },
  {
   "metadata": {
    "ExecuteTime": {
     "end_time": "2025-10-29T02:44:06.558192Z",
     "start_time": "2025-10-29T02:44:06.547281Z"
    }
   },
   "cell_type": "code",
   "source": [
    "import torch\n",
    "print(torch.__version__)"
   ],
   "id": "dad2620d339c88b3",
   "outputs": [
    {
     "name": "stdout",
     "output_type": "stream",
     "text": [
      "2.7.1a0\n"
     ]
    }
   ],
   "execution_count": 10
  }
 ],
 "metadata": {
  "kernelspec": {
   "display_name": "Python 3",
   "language": "python",
   "name": "python3"
  },
  "language_info": {
   "codemirror_mode": {
    "name": "ipython",
    "version": 2
   },
   "file_extension": ".py",
   "mimetype": "text/x-python",
   "name": "python",
   "nbconvert_exporter": "python",
   "pygments_lexer": "ipython2",
   "version": "2.7.6"
  }
 },
 "nbformat": 4,
 "nbformat_minor": 5
}
