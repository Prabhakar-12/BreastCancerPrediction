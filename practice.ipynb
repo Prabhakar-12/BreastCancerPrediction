{
 "cells": [
  {
   "metadata": {},
   "cell_type": "code",
   "source": [
    "import torch\n",
    "import numpy as np\n",
    "import pandas as pd\n",
    "from sklearn.model_selection import train_test_split\n",
    "from sklearn.preprocessing import StandardScaler,LabelEncoder\n",
    "Data=pd.read_csv('data.csv')\n",
    "Data"
   ],
   "id": "63e8bc0d7fe948d8",
   "outputs": [],
   "execution_count": null
  },
  {
   "metadata": {},
   "cell_type": "code",
   "source": [
    "import torch\n",
    "import numpy as np\n",
    "import pandas as pd\n",
    "from sklearn.model_selection import train_test_split\n",
    "from sklearn.preprocessing import StandardScaler,LabelEncoder\n",
    "Data=pd.read_csv('data.csv')\n",
    "Data\n",
    "Data.head(2)\n",
    "Data.tail()\n",
    "Data.isnull().sum()\n",
    "Data.isnull()\n"
   ],
   "id": "9b0c745afc258d73",
   "outputs": [],
   "execution_count": null
  },
  {
   "metadata": {},
   "cell_type": "code",
   "source": "Data.drop(columns=['id','Unnamed: 32'],inplace=True)",
   "id": "2d0157aaa0f8ede6",
   "outputs": [],
   "execution_count": null
  },
  {
   "metadata": {},
   "cell_type": "code",
   "source": "Data.shape",
   "id": "51314d8f6790437c",
   "outputs": [],
   "execution_count": null
  },
  {
   "metadata": {},
   "cell_type": "markdown",
   "source": "Train and Test Split",
   "id": "b86b09c1a3fba7e1"
  },
  {
   "metadata": {},
   "cell_type": "code",
   "source": [
    "X_Train,X_Test,y_Train,y_Test=train_test_split(Data.iloc[:,1:],Data.iloc[:,0],test_size=0.2,random_state=42)\n",
    "X_Test"
   ],
   "id": "6e7deb7c8dac1951",
   "outputs": [],
   "execution_count": null
  },
  {
   "metadata": {},
   "cell_type": "code",
   "source": [
    "scalar=StandardScaler()\n",
    "X_Train=scalar.fit_transform(X_Train)\n",
    "X_Test=scalar.transform(X_Test)\n",
    "X_Test"
   ],
   "id": "8263f3736005c9d8",
   "outputs": [],
   "execution_count": null
  },
  {
   "metadata": {},
   "cell_type": "code",
   "source": "y_Train",
   "id": "9f01539d7d546fa7",
   "outputs": [],
   "execution_count": null
  },
  {
   "metadata": {},
   "cell_type": "code",
   "source": [
    "encoder=LabelEncoder()\n",
    "y_Train=encoder.fit_transform(y_Train)\n",
    "y_Test=encoder.transform(y_Test)"
   ],
   "id": "5a7bd6dbe3518241",
   "outputs": [],
   "execution_count": null
  },
  {
   "metadata": {},
   "cell_type": "code",
   "source": "y_Test",
   "id": "aa903a09ba0a713b",
   "outputs": [],
   "execution_count": null
  },
  {
   "metadata": {},
   "cell_type": "markdown",
   "source": "Numpy to Tensor Conversion",
   "id": "570079640afeff99"
  },
  {
   "metadata": {},
   "cell_type": "code",
   "source": [
    "X_Train_Tensor=torch.from_numpy(X_Train)\n",
    "X_Test_Tensor=torch.from_numpy(X_Test)\n",
    "y_Train_Tensor=torch.from_numpy(y_Train)\n",
    "y_Test_Tensor=torch.from_numpy(y_Test)"
   ],
   "id": "5e973d00a5091594",
   "outputs": [],
   "execution_count": null
  },
  {
   "metadata": {},
   "cell_type": "code",
   "source": "X_Train_Tensor.shape",
   "id": "30a1f1878ad28f13",
   "outputs": [],
   "execution_count": null
  },
  {
   "metadata": {},
   "cell_type": "code",
   "source": "y_Train_Tensor.shape",
   "id": "8797ea711da6c74a",
   "outputs": [],
   "execution_count": null
  },
  {
   "metadata": {},
   "cell_type": "markdown",
   "source": "Definig Model",
   "id": "46a73f631a5c61a4"
  },
  {
   "metadata": {},
   "cell_type": "code",
   "source": [
    "# class MySimpleNN:\n",
    "#     def __init__(self,x):\n",
    "#         self.weights=torch.rand(x.shape[1],1,requires_grad=True,dtype=torch.float64)\n",
    "#         self.bias=torch.zeros(1,dtype=torch.float64,requires_grad=True)\n",
    "#     def Forward(self,X):\n",
    "#         z=torch.matmul(X,self.weights)+self.bias\n",
    "#         y_preds=torch.sigmoid(z)\n",
    "#         return y_preds\n",
    "#     def LossFucntion(self,y_preds,y):\n",
    "#         epsilon=1e-7\n",
    "#         Target=torch.clamp(y_preds,epsilon,1-epsilon)\n",
    "#         Loss=-(y*torch.log(Target)+(1-y)*torch.log(1-Target)).mean()\n",
    "#         return Loss\n",
    "class MySimpleNN:\n",
    "    def __init__(self,x):\n",
    "        self.weights=torch.rand(x.shape[1],1,requires_grad=True,dtype=torch.float64)\n",
    "        self.bias=torch.zeros(1,dtype=torch.float64,requires_grad=True)\n",
    "    def Forward(self,X):\n",
    "        Z=torch.matmul(X,self.weights)+self.bias\n",
    "        y_preds=torch.sigmoid(Z)\n",
    "        return y_preds\n",
    "    def LossFunction(self,y_preds,y):\n",
    "        epsilon=1e-7\n",
    "        Target=torch.clamp(y_preds,epsilon,epsilon-1)\n",
    "        Loss=-(y*torch.log(Target)/(1-y)*torch.log(1-Target)).mean()\n",
    "        return Loss"
   ],
   "id": "a0a0541bfd54c327",
   "outputs": [],
   "execution_count": null
  },
  {
   "metadata": {},
   "cell_type": "markdown",
   "source": "Important Parameters\n",
   "id": "5ff6fb493d8f1b6e"
  },
  {
   "metadata": {},
   "cell_type": "code",
   "source": [
    "LearningRate=0.1\n",
    "epochs=30\n"
   ],
   "id": "63af46ce82989d34",
   "outputs": [],
   "execution_count": null
  },
  {
   "metadata": {},
   "cell_type": "code",
   "source": [
    "# #Creating the Instance of the Model\n",
    "# Model=MySimpleNN(X_Train_Tensor)\n",
    "# #Define Loop\n",
    "# for epoch in range(epochs):\n",
    "#     y_preds=Model.Forward(X_Train_Tensor)\n",
    "#     loss=Model.LossFucntion(y_preds,y_Train_Tensor)\n",
    "#     loss.backward()\n",
    "#     with torch.no_grad():\n",
    "#         Model.weights-=LearningRate * Model.weights.grad\n",
    "#         Model.bias-=LearningRate * Model.bias.grad\n",
    "#     Model.weights.grad.zero_()\n",
    "#     Model.bias.grad.zero_()\n",
    "#     print(f'Epochs :{epoch+1} and Loss:{loss}')"
   ],
   "id": "fa60b622287678ea",
   "outputs": [],
   "execution_count": null
  },
  {
   "metadata": {},
   "cell_type": "code",
   "source": [
    "Model=MySimpleNN(X_Train_Tensor)\n",
    "#Define Loop\n",
    "for epoch in range(epochs):\n",
    "    y_preds=Model.Forward(X_Train_Tensor)\n",
    "    Loss=Model.LossFunction(y_preds,y_Train_Tensor)\n",
    "    Loss.backward()\n",
    "    with torch.no_grad():\n",
    "        Model.weights-=LearningRate * Model.weights.grad\n",
    "        Model.bias-=LearningRate * Model.bias.grad\n",
    "    Model.weights.grad.zero_()\n",
    "    Model.bias.grad.zero_()\n"
   ],
   "id": "8113bdb56e0d44f",
   "outputs": [],
   "execution_count": null
  },
  {
   "metadata": {},
   "cell_type": "code",
   "source": "Model.bias",
   "id": "cf07970291e29e8d",
   "outputs": [],
   "execution_count": null
  },
  {
   "metadata": {},
   "cell_type": "code",
   "source": [
    "#ModelEvaluation\n",
    "with torch.no_grad():\n",
    "    y_preds=Model.Forward(X_Test_Tensor)\n",
    "    y_preds=(y_preds>0.6).float()\n",
    "    Accuracy=(y_preds==y_Test_Tensor).float().mean()\n",
    "print(\"The Accuracy is \",Accuracy)\n"
   ],
   "id": "88ae0603b56f7f0",
   "outputs": [],
   "execution_count": null
  },
  {
   "metadata": {
    "ExecuteTime": {
     "end_time": "2025-10-25T03:53:48.491693Z",
     "start_time": "2025-10-25T03:53:48.469228Z"
    }
   },
   "cell_type": "code",
   "source": "",
   "id": "1a94968de2889ccd",
   "outputs": [
    {
     "name": "stdout",
     "output_type": "stream",
     "text": [
      "Hello World\n"
     ]
    }
   ],
   "execution_count": 20
  }
 ],
 "metadata": {
  "kernelspec": {
   "display_name": "Python 3",
   "language": "python",
   "name": "python3"
  },
  "language_info": {
   "codemirror_mode": {
    "name": "ipython",
    "version": 2
   },
   "file_extension": ".py",
   "mimetype": "text/x-python",
   "name": "python",
   "nbconvert_exporter": "python",
   "pygments_lexer": "ipython2",
   "version": "2.7.6"
  }
 },
 "nbformat": 4,
 "nbformat_minor": 5
}
