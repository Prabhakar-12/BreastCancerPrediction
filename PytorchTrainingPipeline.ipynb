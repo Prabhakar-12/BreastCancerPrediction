{
 "cells": [
  {
   "cell_type": "code",
   "id": "initial_id",
   "metadata": {
    "collapsed": true
   },
   "source": [
    "import torch\n",
    "import pandas as pd\n",
    "import numpy as np\n",
    "from  sklearn.model_selection import train_test_split\n",
    "from sklearn.preprocessing import StandardScaler\n",
    "from sklearn.preprocessing import LabelEncoder\n",
    "Data=pd.read_csv('data.csv')\n",
    "display(Data.head())"
   ],
   "outputs": [],
   "execution_count": null
  },
  {
   "metadata": {},
   "cell_type": "code",
   "source": "Data.drop(columns=['id','Unnamed: 32'],inplace=True)",
   "id": "488a6f51fe6e6d95",
   "outputs": [],
   "execution_count": null
  },
  {
   "metadata": {},
   "cell_type": "code",
   "source": "Data.shape",
   "id": "d9bbe377fecc39a2",
   "outputs": [],
   "execution_count": null
  },
  {
   "metadata": {},
   "cell_type": "markdown",
   "source": "Train,Test Split",
   "id": "7b9f5c7a80121c27"
  },
  {
   "metadata": {},
   "cell_type": "code",
   "source": [
    "X_Train,X_Test,y_Train,y_Test=train_test_split(Data.iloc[:,1:],Data.iloc[:,0],test_size=0.2,random_state=0)\n",
    "X_Train\n"
   ],
   "id": "1c81a026a1d3162c",
   "outputs": [],
   "execution_count": null
  },
  {
   "metadata": {},
   "cell_type": "markdown",
   "source": "Scaling",
   "id": "b625afbc78e17017"
  },
  {
   "metadata": {},
   "cell_type": "code",
   "source": [
    "scalar=StandardScaler()\n",
    "X_Train=scalar.fit_transform(X_Train)\n",
    "X_Test=scalar.transform(X_Test)\n"
   ],
   "id": "41ee3555b6ff4c2f",
   "outputs": [],
   "execution_count": null
  },
  {
   "metadata": {},
   "cell_type": "code",
   "source": [
    "X_Train\n",
    "X_Test"
   ],
   "id": "74a5634909d12758",
   "outputs": [],
   "execution_count": null
  },
  {
   "metadata": {},
   "cell_type": "code",
   "source": "y_Train",
   "id": "b47d7093e3956dc2",
   "outputs": [],
   "execution_count": null
  },
  {
   "metadata": {},
   "cell_type": "code",
   "source": [
    "encoder=LabelEncoder()\n",
    "y_Train=encoder.fit_transform(y_Train)\n",
    "y_Test=encoder.transform(y_Test)\n"
   ],
   "id": "b406e81916b1764",
   "outputs": [],
   "execution_count": null
  },
  {
   "metadata": {},
   "cell_type": "code",
   "source": "y_Train",
   "id": "9623b927e84effb1",
   "outputs": [],
   "execution_count": null
  },
  {
   "metadata": {},
   "cell_type": "markdown",
   "source": "Numpy Array to Pytorch Tensor\n",
   "id": "a239d6fe0d96f058"
  },
  {
   "metadata": {},
   "cell_type": "code",
   "source": [
    "X_Train_Tensor=torch.from_numpy(X_Train)\n",
    "X_Test_Tensor=torch.from_numpy(X_Test)\n",
    "y_Train_Tensor=torch.from_numpy(y_Train)\n",
    "y_Test_Tensor=torch.from_numpy(y_Test)"
   ],
   "id": "f59991979d653c8a",
   "outputs": [],
   "execution_count": null
  },
  {
   "metadata": {},
   "cell_type": "code",
   "source": "X_Train_Tensor.shape",
   "id": "21d0cca304a45db0",
   "outputs": [],
   "execution_count": null
  },
  {
   "metadata": {},
   "cell_type": "code",
   "source": "y_Train_Tensor.shape",
   "id": "672dc12b9d6decd1",
   "outputs": [],
   "execution_count": null
  },
  {
   "metadata": {},
   "cell_type": "code",
   "source": "print(y_Train_Tensor)",
   "id": "b835604f92a40f33",
   "outputs": [],
   "execution_count": null
  },
  {
   "metadata": {},
   "cell_type": "markdown",
   "source": "Defining Model",
   "id": "50dcdd88c07ef08a"
  },
  {
   "metadata": {
    "ExecuteTime": {
     "end_time": "2025-10-15T19:36:50.116690Z",
     "start_time": "2025-10-15T19:36:50.098055Z"
    }
   },
   "cell_type": "code",
   "source": [
    "class MySimpleNN:\n",
    "    def __init__(self,x):\n",
    "        self.weights=torch.rand(x.shape[1],1,requires_grad=True,dtype=torch.float64)\n",
    "        self.bias=torch.zeros(1,dtype=torch.float64,requires_grad=True)\n",
    "\n",
    "    def forwardPass(self,X):\n",
    "        z=torch.matmul(X,self.weights)+self.bias\n",
    "        y_preds=torch.sigmoid(z)\n",
    "        return y_preds\n",
    "    def lossFuction(self,y_preds,y):\n",
    "        epsilon=1e-7\n",
    "        y_preds=torch.clamp(y_preds,epsilon,1-epsilon)\n",
    "        loss=-(y_Train_Tensor*torch.log(y_preds)+(1-y_Train_Tensor)*torch.log(1-y_preds)).mean()\n",
    "        return loss"
   ],
   "id": "fd763f1555c84742",
   "outputs": [],
   "execution_count": 146
  },
  {
   "metadata": {},
   "cell_type": "markdown",
   "source": "Important Parameters",
   "id": "f36950718a8a3fac"
  },
  {
   "metadata": {},
   "cell_type": "code",
   "source": [
    "Learning_Rate=0.1\n",
    "epochs=1"
   ],
   "id": "88f01b74c6a88930",
   "outputs": [],
   "execution_count": null
  },
  {
   "metadata": {
    "ExecuteTime": {
     "end_time": "2025-10-15T19:38:36.655644Z",
     "start_time": "2025-10-15T19:38:36.631710Z"
    }
   },
   "cell_type": "code",
   "source": [
    "#Creating the Instance of the ModelClass\n",
    "Model=MySimpleNN(X_Train_Tensor)\n",
    "#Define Loop\n",
    "for epoch in range(epochs):\n",
    "    y_preds=Model.forwardPass(X_Train_Tensor)\n",
    "    loss=Model.lossFuction(y_preds,y_Train_Tensor)\n",
    "    loss.backward()\n",
    "\n"
   ],
   "id": "a0b315a9af5d1fda",
   "outputs": [],
   "execution_count": 148
  }
 ],
 "metadata": {
  "kernelspec": {
   "display_name": "Python 3",
   "language": "python",
   "name": "python3"
  },
  "language_info": {
   "codemirror_mode": {
    "name": "ipython",
    "version": 2
   },
   "file_extension": ".py",
   "mimetype": "text/x-python",
   "name": "python",
   "nbconvert_exporter": "python",
   "pygments_lexer": "ipython2",
   "version": "2.7.6"
  }
 },
 "nbformat": 4,
 "nbformat_minor": 5
}
