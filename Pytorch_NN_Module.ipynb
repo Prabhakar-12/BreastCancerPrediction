{
 "cells": [
  {
   "cell_type": "code",
   "id": "initial_id",
   "metadata": {
    "collapsed": true
   },
   "source": [
    "import torch\n",
    "from torch import nn\n",
    "import numpy as np\n",
    "import pandas as pd\n",
    "from sklearn.model_selection import train_test_split\n",
    "from sklearn.preprocessing import LabelEncoder,StandardScaler\n",
    "Data=pd.read_csv('data.csv')\n",
    "Data.isnull().sum()\n",
    "Data.columns\n"
   ],
   "outputs": [],
   "execution_count": null
  },
  {
   "metadata": {},
   "cell_type": "code",
   "source": [
    "#Removing the Unwanted Rows From the Given Dataset\n",
    "Data.drop(columns=['id','Unnamed: 32'],axis=1,inplace=True)"
   ],
   "id": "b3f5251a0c68b76a",
   "outputs": [],
   "execution_count": null
  },
  {
   "metadata": {},
   "cell_type": "code",
   "source": "Data.info()",
   "id": "712023cadd4723a0",
   "outputs": [],
   "execution_count": null
  },
  {
   "metadata": {},
   "cell_type": "code",
   "source": [
    "X_Train,X_Test,y_Train,y_Test=train_test_split(Data.iloc[:,1:],Data.iloc[:,0],test_size=0.2,random_state=42)\n",
    "X_Train.shape\n",
    "display(X_Test)"
   ],
   "id": "6339df1b7ce3ea98",
   "outputs": [],
   "execution_count": null
  },
  {
   "metadata": {},
   "cell_type": "code",
   "source": [
    "#Creating the Instance of the StandardScaler\n",
    "Scaler=StandardScaler()\n",
    "X_Train=Scaler.fit_transform(X_Train)\n",
    "X_Test=Scaler.transform(X_Test)"
   ],
   "id": "f296b0c17da2e5c6",
   "outputs": [],
   "execution_count": null
  },
  {
   "metadata": {},
   "cell_type": "code",
   "source": [
    "#LabelEncoder Which is USed to convert the categorical Values into the Numerical(Latents)\n",
    "Label=LabelEncoder()\n",
    "y_Train=Label.fit_transform(y_Train)\n",
    "y_Test=Label.transform(y_Test)\n",
    "y_Test"
   ],
   "id": "ff5632385972e055",
   "outputs": [],
   "execution_count": null
  },
  {
   "metadata": {},
   "cell_type": "code",
   "source": [
    "#Converting the Numpy Array into the Tensor\n",
    "X_Train_Tensor=torch.from_numpy(X_Train)\n",
    "X_Test_Tensor=torch.from_numpy(X_Test)\n",
    "y_Train_Tensor=torch.from_numpy(y_Train)\n",
    "y_Test_Tensor=torch.from_numpy(y_Test)\n"
   ],
   "id": "6c09f757d0658621",
   "outputs": [],
   "execution_count": null
  },
  {
   "metadata": {},
   "cell_type": "code",
   "source": [
    "#Creating the ML Model\n",
    "class SimpleNN:\n",
    "    def __init__(self,X):\n",
    "        self.weights="
   ],
   "id": "c19104c2092ab1d",
   "outputs": [],
   "execution_count": null
  }
 ],
 "metadata": {
  "kernelspec": {
   "display_name": "Python 3",
   "language": "python",
   "name": "python3"
  },
  "language_info": {
   "codemirror_mode": {
    "name": "ipython",
    "version": 2
   },
   "file_extension": ".py",
   "mimetype": "text/x-python",
   "name": "python",
   "nbconvert_exporter": "python",
   "pygments_lexer": "ipython2",
   "version": "2.7.6"
  }
 },
 "nbformat": 4,
 "nbformat_minor": 5
}
